{
 "cells": [
  {
   "cell_type": "markdown",
   "metadata": {},
   "source": [
    "# Weight initialization test\n",
    "## 10 layer net with 500 neurons"
   ]
  },
  {
   "cell_type": "code",
   "execution_count": null,
   "metadata": {},
   "outputs": [],
   "source": [
    "import numpy as np\n",
    "\n",
    "# assume some unit gaussian 10-D input data\n",
    "D = np.random.randn(1000, 500)\n",
    "hidden_layer_sizes = [500]*10\n",
    "nonlinearities = ['tanh']*len(hidden_layer_sizes)"
   ]
  },
  {
   "cell_type": "code",
   "execution_count": null,
   "metadata": {},
   "outputs": [],
   "source": [
    "act = {'relu':lambda x:np.maximum(0,x), 'tanh':lambda x:np.tanh(x)}\n",
    "Hs = {}\n",
    "for i in range(len(hidden_layer_sizes)):\n",
    "    X = D if i == 0 else Hs[i-1] # input at this layer\n",
    "    fan_in = X.shape[1]\n",
    "    fan_out = hidden_layer_sizes[i]\n",
    "    W = np.random.randn(fan_in, fan_out) * 0.01 # layer initialization\n",
    "    \n",
    "    H = np.dot(X, W) # matrix multiply\n",
    "    H = act[nonlinearities[i]](H) # nonlinearity\n",
    "    Hs[i] = H # cache result on this layer"
   ]
  },
  {
   "cell_type": "code",
   "execution_count": null,
   "metadata": {},
   "outputs": [
    {
     "name": "stdout",
     "output_type": "stream",
     "text": [
      "input layer had mean -0.000200 and std 0.999938\n",
      "hidden layer 1 had mean 0.000015 and std 0.213441\n",
      "hidden layer 2 had mean 0.000021 and std 0.047523\n",
      "hidden layer 3 had mean -0.000001 and std 0.010607\n",
      "hidden layer 4 had mean -0.000001 and std 0.002372\n",
      "hidden layer 5 had mean 0.000001 and std 0.000528\n",
      "hidden layer 6 had mean -0.000000 and std 0.000118\n",
      "hidden layer 7 had mean 0.000000 and std 0.000026\n",
      "hidden layer 8 had mean -0.000000 and std 0.000006\n",
      "hidden layer 9 had mean -0.000000 and std 0.000001\n",
      "hidden layer 10 had mean 0.000000 and std 0.000000\n"
     ]
    }
   ],
   "source": [
    "# look at distributions at each layer\n",
    "print('input layer had mean %f and std %f' % (np.mean(D), np.std(D)))\n",
    "layer_means = [np.mean(H) for i,H in Hs.items()]\n",
    "layer_stds = [np.std(H) for i,H in Hs.items()]\n",
    "for i,H in Hs.items():\n",
    "    print('hidden layer %d had mean %f and std %f' % (i+1, layer_means[i], layer_stds[i]))\n",
    "\n",
    "# plot the means and standard deviations\n"
   ]
  },
  {
   "cell_type": "code",
   "execution_count": null,
   "metadata": {},
   "outputs": [],
   "source": []
  }
 ],
 "metadata": {
  "kernelspec": {
   "display_name": "Python 3",
   "language": "python",
   "name": "python3"
  },
  "language_info": {
   "codemirror_mode": {
    "name": "ipython",
    "version": 3
   },
   "file_extension": ".py",
   "mimetype": "text/x-python",
   "name": "python",
   "nbconvert_exporter": "python",
   "pygments_lexer": "ipython3",
   "version": "3.6.6"
  }
 },
 "nbformat": 4,
 "nbformat_minor": 2
}
